{
 "cells": [
  {
   "cell_type": "code",
   "execution_count": 67,
   "metadata": {},
   "outputs": [],
   "source": [
    "import pandas as pd\n",
    "\n",
    "data = pd.read_csv(\"./hw2_coffeshop_송인욱.csv\", encoding=\"utf-8\", )\n",
    "\n",
    "# find_region = input(\"검색할 매장의 도시를 입력하세요: \")\n",
    "find_region = '대구 동구'\n",
    "input_list = find_region.split()"
   ]
  },
  {
   "cell_type": "code",
   "execution_count": 68,
   "metadata": {},
   "outputs": [],
   "source": [
    "find_data = data['위치(시,구)'].str.split(expand=True)\n",
    "find_data.columns = ['지역', '도시']"
   ]
  },
  {
   "cell_type": "code",
   "execution_count": 69,
   "metadata": {},
   "outputs": [],
   "source": [
    "new_data = pd.concat([data, find_data], axis=1)"
   ]
  },
  {
   "cell_type": "code",
   "execution_count": 70,
   "metadata": {},
   "outputs": [
    {
     "name": "stderr",
     "output_type": "stream",
     "text": [
      "/tmp/ipykernel_30876/960064523.py:2: UserWarning: Boolean Series key will be reindexed to match DataFrame index.\n",
      "  b = a[new_data['도시'] == city]\n"
     ]
    },
    {
     "data": {
      "text/html": [
       "<div>\n",
       "<style scoped>\n",
       "    .dataframe tbody tr th:only-of-type {\n",
       "        vertical-align: middle;\n",
       "    }\n",
       "\n",
       "    .dataframe tbody tr th {\n",
       "        vertical-align: top;\n",
       "    }\n",
       "\n",
       "    .dataframe thead th {\n",
       "        text-align: right;\n",
       "    }\n",
       "</style>\n",
       "<table border=\"1\" class=\"dataframe\">\n",
       "  <thead>\n",
       "    <tr style=\"text-align: right;\">\n",
       "      <th></th>\n",
       "      <th>매장이름</th>\n",
       "      <th>위치(시,구)</th>\n",
       "      <th>주소</th>\n",
       "      <th>전화번호</th>\n",
       "      <th>지역</th>\n",
       "      <th>도시</th>\n",
       "    </tr>\n",
       "  </thead>\n",
       "  <tbody>\n",
       "    <tr>\n",
       "      <th>75</th>\n",
       "      <td>대구봉무공원점</td>\n",
       "      <td>대구 동구</td>\n",
       "      <td>대구광역시 동구 단산길 4 (봉무동) 1~2층</td>\n",
       "      <td>053-984-3001</td>\n",
       "      <td>대구</td>\n",
       "      <td>동구</td>\n",
       "    </tr>\n",
       "    <tr>\n",
       "      <th>241</th>\n",
       "      <td>동대구역사점</td>\n",
       "      <td>대구 동구</td>\n",
       "      <td>대구광역시 동구 동대구로 550 (동대구역 내 1층)</td>\n",
       "      <td>053-942-1033</td>\n",
       "      <td>대구</td>\n",
       "      <td>동구</td>\n",
       "    </tr>\n",
       "    <tr>\n",
       "      <th>286</th>\n",
       "      <td>대구안심점</td>\n",
       "      <td>대구 동구</td>\n",
       "      <td>대구시 동구 안심로 90길29 .</td>\n",
       "      <td>053)552-2220</td>\n",
       "      <td>대구</td>\n",
       "      <td>동구</td>\n",
       "    </tr>\n",
       "    <tr>\n",
       "      <th>297</th>\n",
       "      <td>동대구환승센터점</td>\n",
       "      <td>대구 동구</td>\n",
       "      <td>대구광역시 동구 동부로 149 (신천동, 신세계동대구복합환승센터) 3층</td>\n",
       "      <td>053-742-0614</td>\n",
       "      <td>대구</td>\n",
       "      <td>동구</td>\n",
       "    </tr>\n",
       "  </tbody>\n",
       "</table>\n",
       "</div>"
      ],
      "text/plain": [
       "         매장이름 위치(시,구)                                       주소          전화번호  \\\n",
       "75    대구봉무공원점   대구 동구                대구광역시 동구 단산길 4 (봉무동) 1~2층  053-984-3001   \n",
       "241    동대구역사점   대구 동구            대구광역시 동구 동대구로 550 (동대구역 내 1층)  053-942-1033   \n",
       "286     대구안심점   대구 동구                       대구시 동구 안심로 90길29 .  053)552-2220   \n",
       "297  동대구환승센터점   대구 동구  대구광역시 동구 동부로 149 (신천동, 신세계동대구복합환승센터) 3층  053-742-0614   \n",
       "\n",
       "     지역  도시  \n",
       "75   대구  동구  \n",
       "241  대구  동구  \n",
       "286  대구  동구  \n",
       "297  대구  동구  "
      ]
     },
     "execution_count": 70,
     "metadata": {},
     "output_type": "execute_result"
    }
   ],
   "source": [
    "find1 = new_data[new_data['지역'] == region]\n",
    "find2 = find1[new_data['도시'] == city]\n"
   ]
  },
  {
   "cell_type": "code",
   "execution_count": null,
   "metadata": {},
   "outputs": [],
   "source": [
    "print('--------------------')\n",
    "print(f'검색된 매장 수: {new_data}')"
   ]
  }
 ],
 "metadata": {
  "kernelspec": {
   "display_name": "Python 3.9.12 ('EV_PY39')",
   "language": "python",
   "name": "python3"
  },
  "language_info": {
   "codemirror_mode": {
    "name": "ipython",
    "version": 3
   },
   "file_extension": ".py",
   "mimetype": "text/x-python",
   "name": "python",
   "nbconvert_exporter": "python",
   "pygments_lexer": "ipython3",
   "version": "3.9.12"
  },
  "orig_nbformat": 4,
  "vscode": {
   "interpreter": {
    "hash": "7046fadfc8eb06ac6ccb78d8ddd5e12eef28a4f384be78d2cf2a68fb34b54387"
   }
  }
 },
 "nbformat": 4,
 "nbformat_minor": 2
}
